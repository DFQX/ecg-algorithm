{
 "cells": [
  {
   "cell_type": "markdown",
   "id": "3ec640f4",
   "metadata": {},
   "source": [
    "$$f(x,y,z) = 3y^2z \\left( 3+\\frac{7x+5}{1+y^2} \\right)$$\n",
    "$$ \\left. \\frac{{\\rm d}u}{{\\rm d}x} \\right| _{x=0} $$"
   ]
  },
  {
   "cell_type": "code",
   "execution_count": null,
   "id": "8b72c5f3",
   "metadata": {},
   "outputs": [],
   "source": []
  }
 ],
 "metadata": {
  "kernelspec": {
   "display_name": "Python 3",
   "language": "python",
   "name": "python3"
  },
  "language_info": {
   "codemirror_mode": {
    "name": "ipython",
    "version": 3
   },
   "file_extension": ".py",
   "mimetype": "text/x-python",
   "name": "python",
   "nbconvert_exporter": "python",
   "pygments_lexer": "ipython3",
   "version": "3.8.8"
  }
 },
 "nbformat": 4,
 "nbformat_minor": 5
}
